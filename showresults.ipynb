{
 "cells": [
  {
   "cell_type": "markdown",
   "id": "4ad48a5b",
   "metadata": {},
   "source": [
    "# Show results of genome sequence preprocessing pipeline"
   ]
  },
  {
   "cell_type": "code",
   "execution_count": null,
   "id": "19f08c07",
   "metadata": {},
   "outputs": [],
   "source": [
    "# Connecting to demo bucket.\n",
    "# Username and password are simple.\n",
    "# As a best practice security does not depend on the username and password stored in the notebook.\n",
    "# Bucket is only available from within project cluster.\n",
    "! mc alias set secondstorage http://minio-service.miniosingle:9000 minio minio123\n",
    "        \n",
    "# Check if data is accessible. The command should list the demo bucket contents.\n",
    "! mc ls secondstorage/genomeflow/"
   ]
  },
  {
   "cell_type": "code",
   "execution_count": null,
   "id": "29b8165c",
   "metadata": {},
   "outputs": [],
   "source": [
    "# check available runs\n",
    "! mc ls secondstorage/genomeflow/workdir"
   ]
  },
  {
   "cell_type": "code",
   "execution_count": null,
   "id": "13c1cb94",
   "metadata": {},
   "outputs": [],
   "source": [
    "# list assets of run\n",
    "! mc ls secondstorage/genomeflow/workdir/run11/"
   ]
  },
  {
   "cell_type": "code",
   "execution_count": null,
   "id": "070f5ae6",
   "metadata": {},
   "outputs": [],
   "source": [
    "# show wgs metrics\n",
    "! mc cat secondstorage/genomeflow/workdir/run11/wgs_metrics.txt"
   ]
  },
  {
   "cell_type": "code",
   "execution_count": null,
   "id": "170b9948",
   "metadata": {},
   "outputs": [],
   "source": []
  }
 ],
 "metadata": {
  "kernelspec": {
   "display_name": "Python 3",
   "language": "python",
   "name": "python3"
  },
  "language_info": {
   "codemirror_mode": {
    "name": "ipython",
    "version": 3
   },
   "file_extension": ".py",
   "mimetype": "text/x-python",
   "name": "python",
   "nbconvert_exporter": "python",
   "pygments_lexer": "ipython3",
   "version": "3.8.8"
  }
 },
 "nbformat": 4,
 "nbformat_minor": 5
}
